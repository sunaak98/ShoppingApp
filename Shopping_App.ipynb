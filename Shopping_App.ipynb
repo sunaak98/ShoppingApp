{
 "cells": [
  {
   "cell_type": "code",
   "execution_count": 2,
   "id": "ef82b37f",
   "metadata": {},
   "outputs": [],
   "source": [
    "import time\n",
    "import os\n",
    "import uuid\n",
    "import openpyxl as xl"
   ]
  },
  {
   "cell_type": "code",
   "execution_count": 3,
   "id": "2769a60c",
   "metadata": {},
   "outputs": [
    {
     "name": "stdout",
     "output_type": "stream",
     "text": [
      "***************************************\n",
      "*** Welcome to the Demo Marketplace ***\n",
      "***************************************\n"
     ]
    }
   ],
   "source": [
    "time.sleep(1)\n",
    "print(\"***************************************\")\n",
    "print(\"*** Welcome to the Demo Marketplace ***\")\n",
    "print(\"***************************************\")"
   ]
  },
  {
   "cell_type": "code",
   "execution_count": 4,
   "id": "aabe9a8d",
   "metadata": {},
   "outputs": [],
   "source": [
    "###Creating Databases\n",
    "\n",
    "#Admin Login Database. In the form of \"admin_user_id:admin_password\"\n",
    "admin_db = {\"admin1\":\"admin01\",\"admin2\":\"admin02\"}\n",
    "\n",
    "#Users login database. In the form of \"user_id:user_password\"\n",
    "user_db = {}\n",
    "\n",
    "#Session ID Storage. Empty list right now.\n",
    "sessionID = {}\n",
    "\n",
    "#Relation_ID\n",
    "r_id = 4"
   ]
  },
  {
   "cell_type": "code",
   "execution_count": 23,
   "id": "bf7ec5a9",
   "metadata": {},
   "outputs": [],
   "source": [
    "#Creating Classes\n",
    "\n",
    "#This class adds new user, authenticate them, updates new id or username and delete a user information. It also creates session id for the same user\n",
    "class user_update():\n",
    "  #Initialization of the class: constructor\n",
    "    def __init__(self, username, password,):\n",
    "        self.username = username\n",
    "        self.password = password\n",
    "\n",
    "    #creating new user\n",
    "    def new_user(self):\n",
    "        #Authenticating the new username must not exist, else make the new user\n",
    "        if self.username in user_db:\n",
    "            print(\"User Already Exist\")\n",
    "            user_login(1)\n",
    "        else:\n",
    "            self.session_id = uuid.uuid4()\n",
    "            user_db[self.username] = [self.password, str(uuid.uuid4())]\n",
    "            print(\"Account Created Successfully. \")\n",
    "            time.sleep(2)\n",
    "\n",
    "    def auth_user(self):\n",
    "        if self.username in user_db:\n",
    "            if self.password in user_db[self.username]:\n",
    "                print(\"Authorisation successful\")\n",
    "                time.sleep(3)\n",
    "            else:\n",
    "                print(\"Wrong Password\")\n",
    "                pass_choice = int(input(\"1. Forgot Password\\t2. Re-enter Password: \"))\n",
    "                \n",
    "\n",
    "        else:\n",
    "            ans = str(input(\"User Does Not Exist. Create Account? [Y/N]: \"))\n",
    "            if ans == \"Y\" or ans == \"y\":\n",
    "                os.system('clear')\n",
    "                user_login(1)\n",
    "            if ans == \"N\" or ans == \"n\":\n",
    "                print(\"Logging Out...\")\n",
    "                time.sleep(3)\n",
    "                print(\"THANKYOU FOR VISITING DEMO MARKETPLACE\")\n",
    "                time.sleep(3)\n",
    "                os.system('clear')\n",
    "\n",
    "    def remove_user(self):\n",
    "        if self.username in user_db:\n",
    "            del user_db[self.username]\n",
    "            print(\"User Deleted\")\n",
    "        else:\n",
    "            print(\"User Not Found\")\n",
    "\n",
    "    def change_pass(self):\n",
    "        if self.username in user_db:\n",
    "            print(\"User Found\")\n",
    "            self.password = input(\"Enter New Password: \")\n",
    "            user_db[self.username]=self.password\n",
    "            print(\"Password Updated:\")\n",
    "            print(user_db)\n",
    "        else:\n",
    "            print(\"User Not Found\")\n",
    "\n",
    "    def change_usrnm(self):\n",
    "        if self.username in user_db:\n",
    "            print(\"User Found\")\n",
    "            u_pass = self.password\n",
    "            del user_db[self.username]\n",
    "            self.username = input(\"Enter New Username: \")\n",
    "            user_db[self.username] = u_pass\n",
    "            print(\"Username Updated:\")\n",
    "            print(user_db)\n",
    "        else:\n",
    "            print(\"User Not Found\")"
   ]
  },
  {
   "cell_type": "code",
   "execution_count": 24,
   "id": "4ec00c67",
   "metadata": {},
   "outputs": [],
   "source": [
    "def start_page():\n",
    "    return int(input(\"Please Enter your relation with us:\\n[1] Sign Up\\t[2] Sign In\\t[3] Exit\\n\"))"
   ]
  },
  {
   "cell_type": "code",
   "execution_count": 25,
   "id": "45fccad7",
   "metadata": {},
   "outputs": [],
   "source": [
    "#User Login Function\n",
    "def user_login(r_id):\n",
    "    #Create a new User\n",
    "    while(r_id != 0 and r_id == 1):\n",
    "        time.sleep(1)\n",
    "        username = input(\"Enter New Username: \")\n",
    "        password = input(\"Enter New Password: \")\n",
    "        user = user_update(username,password)\n",
    "        r_id = user.new_user()\n",
    "        #print(len(user_db))\n",
    "        #udb.save_new_user(\"user_db.xlsx\", user_db)\n",
    "\n",
    "  #Login User\n",
    "    while(r_id != 0 and r_id == 2):\n",
    "        time.sleep(1)\n",
    "        username = input(\"Enter Username: \")\n",
    "        password = input(\"Enter Password: \")\n",
    "        user = user_update(username,password)\n",
    "        r_id = user.auth_user()\n",
    "\n",
    "    while(r_id != 0 and r_id == 3):\n",
    "        print(\"Thanks for visiting us, hope to see you again\")\n",
    "        time.sleep(2)\n",
    "        r_id = 0\n",
    "        break"
   ]
  },
  {
   "cell_type": "code",
   "execution_count": 27,
   "id": "640d04a1",
   "metadata": {},
   "outputs": [
    {
     "name": "stdout",
     "output_type": "stream",
     "text": [
      "User Already Exist\n",
      "Account Created Successfully. \n"
     ]
    }
   ],
   "source": [
    "user_login(start_page())"
   ]
  },
  {
   "cell_type": "code",
   "execution_count": 28,
   "id": "862ca7bb",
   "metadata": {},
   "outputs": [
    {
     "data": {
      "text/plain": [
       "{'aak': ['aak01', '0eca1871-0c48-475f-89f8-35e6ae328e6b'],\n",
       " 'megh': ['megh01', '61a3325b-da8b-4914-9625-1ac818e7b609']}"
      ]
     },
     "execution_count": 28,
     "metadata": {},
     "output_type": "execute_result"
    }
   ],
   "source": [
    "user_db"
   ]
  },
  {
   "cell_type": "code",
   "execution_count": null,
   "id": "b7eb7325",
   "metadata": {},
   "outputs": [],
   "source": []
  }
 ],
 "metadata": {
  "kernelspec": {
   "display_name": "Python 3 (ipykernel)",
   "language": "python",
   "name": "python3"
  },
  "language_info": {
   "codemirror_mode": {
    "name": "ipython",
    "version": 3
   },
   "file_extension": ".py",
   "mimetype": "text/x-python",
   "name": "python",
   "nbconvert_exporter": "python",
   "pygments_lexer": "ipython3",
   "version": "3.12.3"
  }
 },
 "nbformat": 4,
 "nbformat_minor": 5
}
