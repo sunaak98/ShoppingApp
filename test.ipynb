{
 "cells": [
  {
   "cell_type": "code",
   "execution_count": 1,
   "metadata": {},
   "outputs": [],
   "source": [
    "dict = {}\n"
   ]
  },
  {
   "cell_type": "code",
   "execution_count": 2,
   "metadata": {},
   "outputs": [
    {
     "data": {
      "text/plain": [
       "{}"
      ]
     },
     "execution_count": 2,
     "metadata": {},
     "output_type": "execute_result"
    }
   ],
   "source": [
    "dict"
   ]
  },
  {
   "cell_type": "code",
   "execution_count": 4,
   "metadata": {},
   "outputs": [],
   "source": [
    "id = 'aak'\n",
    "pwd = '123'"
   ]
  },
  {
   "cell_type": "code",
   "execution_count": 5,
   "metadata": {},
   "outputs": [],
   "source": [
    "dict[id] = pwd"
   ]
  },
  {
   "cell_type": "code",
   "execution_count": 6,
   "metadata": {},
   "outputs": [
    {
     "data": {
      "text/plain": [
       "{'aak': '123'}"
      ]
     },
     "execution_count": 6,
     "metadata": {},
     "output_type": "execute_result"
    }
   ],
   "source": [
    "dict"
   ]
  },
  {
   "cell_type": "code",
   "execution_count": 7,
   "metadata": {},
   "outputs": [],
   "source": [
    "id = 'meg'\n",
    "pwd = '345'"
   ]
  },
  {
   "cell_type": "code",
   "execution_count": 8,
   "metadata": {},
   "outputs": [],
   "source": [
    "dict[id] = pwd"
   ]
  },
  {
   "cell_type": "code",
   "execution_count": 9,
   "metadata": {},
   "outputs": [
    {
     "data": {
      "text/plain": [
       "{'aak': '123', 'meg': '345'}"
      ]
     },
     "execution_count": 9,
     "metadata": {},
     "output_type": "execute_result"
    }
   ],
   "source": [
    "dict"
   ]
  },
  {
   "cell_type": "code",
   "execution_count": null,
   "metadata": {},
   "outputs": [],
   "source": []
  },
  {
   "cell_type": "code",
   "execution_count": 5,
   "metadata": {},
   "outputs": [
    {
     "name": "stderr",
     "output_type": "stream",
     "text": [
      "<>:94: SyntaxWarning: \"is\" with a literal. Did you mean \"==\"?\n",
      "<>:96: SyntaxWarning: \"is\" with a literal. Did you mean \"==\"?\n",
      "<>:94: SyntaxWarning: \"is\" with a literal. Did you mean \"==\"?\n",
      "<>:96: SyntaxWarning: \"is\" with a literal. Did you mean \"==\"?\n"
     ]
    },
    {
     "name": "stdout",
     "output_type": "stream",
     "text": [
      "\u001b[H\u001b[2J***************************************\n",
      "*** Welcome to the Demo Marketplace ***\n",
      "***************************************\n",
      "\u001b[H\u001b[2J***************************************\n",
      "*** Welcome to the Demo Marketplace ***\n",
      "***************************************\n",
      "\u001b[H\u001b[2J***************************************\n",
      "*** Welcome to the Demo Marketplace ***\n",
      "***************************************\n",
      "Please select your relation with us:\n",
      "[1] Sign Up\t[2] Sign In\t[3] Exit\n",
      "::1\n",
      "\u001b[H\u001b[2J"
     ]
    },
    {
     "name": "stderr",
     "output_type": "stream",
     "text": [
      "/var/folders/mg/1999j9pd19537hny5ssp2zyc0000gn/T/ipykernel_16756/1047231676.py:94: SyntaxWarning: \"is\" with a literal. Did you mean \"==\"?\n",
      "  if relation is 1:\n",
      "/var/folders/mg/1999j9pd19537hny5ssp2zyc0000gn/T/ipykernel_16756/1047231676.py:96: SyntaxWarning: \"is\" with a literal. Did you mean \"==\"?\n",
      "  if relation is 2:\n"
     ]
    }
   ],
   "source": [
    "import time\n",
    "import os\n",
    "\n",
    "#Display the Welcome Message three times with a blink\n",
    "\n",
    "for i in range(0,3):\n",
    "    os.system('clear')\n",
    "    time.sleep(1)\n",
    "    print(\"***************************************\")\n",
    "    print(\"*** Welcome to the Demo Marketplace ***\")\n",
    "    print(\"***************************************\")\n",
    "    #provide a delay\n",
    "    time.sleep(1)\n",
    "\n",
    "\n",
    "###Creating Databases\n",
    "\n",
    "#Admin Login Database. In the form of \"admin_user_id:admin_password\"\n",
    "admin_db = {\"aak\":\"aak01\", \"Meg\":\"meg01\", \"pre\":\"pre01\"}\n",
    "\n",
    "#Users login database. In the form of \"user_id:user_password\"\n",
    "user_db = {}\n",
    "\n",
    "#Session ID Storage. Empty list right now.\n",
    "sessionID = {}\n",
    "\n",
    "relation = 4\n",
    "\n",
    "#Creating Classes\n",
    "\n",
    "#This class adds new user, authenticate them, updates new id or username and delete a user information. It also creates session id for the same user\n",
    "class user_update():\n",
    "  def __init__(self, username, password):\n",
    "    self.username = username\n",
    "    self.password = password\n",
    "\n",
    "  def new_user(self):\n",
    "    if self.username in user_db:\n",
    "      print(\"User Already Exist\")\n",
    "    else:\n",
    "      user_db[self.username] = self.password\n",
    "      print(user_db)\n",
    "\n",
    "  def auth_user(self):\n",
    "    if self.username in user_db:\n",
    "      print(\"Authorisation successful\")\n",
    "    else:\n",
    "      print(\"Access Denied. Create Account?\")\n",
    "\n",
    "  def remove_user(self):\n",
    "    if self.username in user_db:\n",
    "      del user_db[self.username]\n",
    "      print(\"User Deleted\")\n",
    "    else:\n",
    "      print(\"User Not Found\")\n",
    "\n",
    "  def change_pass(self):\n",
    "    if self.username in user_db:\n",
    "      print(\"User Found\")\n",
    "      self.password = input(\"Enter New Password: \")\n",
    "      user_db[self.username]=self.password\n",
    "      print(\"Password Updated:\")\n",
    "      print(user_db)\n",
    "    else:\n",
    "      print(\"User Not Found\")\n",
    "\n",
    "  def change_usrnm(self):\n",
    "    if self.username in user_db:\n",
    "      print(\"User Found\")\n",
    "      u_pass = self.password\n",
    "      del user_db[self.username]\n",
    "      self.username = input(\"Enter New Username: \")\n",
    "      user_db[self.username] = u_pass\n",
    "      print(\"Username Updated:\")\n",
    "      print(user_db)\n",
    "    else:\n",
    "      print(\"User Not Found\")\n",
    "\n",
    "# Create Login Page\n",
    "\n",
    "time.sleep(1)\n",
    "print(\"Please select your relation with us:\")\n",
    "print(\"[1] Sign Up\\t[2] Sign In\\t[3] Exit\")\n",
    "relation = int(input(\"::\"))\n",
    "time.sleep(1)\n",
    "os.system('clear')\n",
    "while(relation not in range(1,4)):\n",
    "  time.sleep(1)\n",
    "  print(\"Please select your relation with us:\")\n",
    "  print(\"[1] Sign Up\\t[2] Sign In\\t[3] Exit\")\n",
    "  relation = int(input(\"::\"))\n",
    "  time.sleep(1)\n",
    "  os.system('clear')\n",
    "  if relation is 1:\n",
    "    print(\"Please create an account by entering New Id and Password:\")\n",
    "  if relation is 2:\n",
    "    print(\"Please Enter your Id and Password:\")"
   ]
  },
  {
   "cell_type": "code",
   "execution_count": 15,
   "metadata": {},
   "outputs": [
    {
     "name": "stdout",
     "output_type": "stream",
     "text": [
      "\u001b[H\u001b[2J***************************************\n",
      "*** Welcome to the Demo Marketplace ***\n",
      "***************************************\n",
      "\u001b[H\u001b[2J***************************************\n",
      "*** Welcome to the Demo Marketplace ***\n",
      "***************************************\n",
      "\u001b[H\u001b[2J***************************************\n",
      "*** Welcome to the Demo Marketplace ***\n",
      "***************************************\n",
      "Please select your relation with us:\n",
      "[1] Sign Up\t[2] Sign In\t[3] Exit\n",
      "::4\n",
      "\u001b[H\u001b[2JPlease select your relation with us:\n",
      "[1] Sign Up\t[2] Sign In\t[3] Exit\n",
      "::5\n",
      "\u001b[H\u001b[2JPlease select your relation with us:\n",
      "[1] Sign Up\t[2] Sign In\t[3] Exit\n",
      "::3\n",
      "\u001b[H\u001b[2J"
     ]
    }
   ],
   "source": [
    "import time\n",
    "import os\n",
    "\n",
    "#Display the Welcome Message three times with a blink\n",
    "\n",
    "for i in range(0,3):\n",
    "    os.system('clear')\n",
    "    time.sleep(1)\n",
    "    print(\"***************************************\")\n",
    "    print(\"*** Welcome to the Demo Marketplace ***\")\n",
    "    print(\"***************************************\")\n",
    "    #provide a delay\n",
    "    time.sleep(1)\n",
    "\n",
    "\n",
    "###Creating Databases\n",
    "\n",
    "#Admin Login Database. In the form of \"admin_user_id:admin_password\"\n",
    "admin_db = {\"aak\":\"aak01\", \"Meg\":\"meg01\", \"pre\":\"pre01\"}\n",
    "\n",
    "#Users login database. In the form of \"user_id:user_password\"\n",
    "user_db = {}\n",
    "\n",
    "#Session ID Storage. Empty list right now.\n",
    "sessionID = {}\n",
    "relation = 4\n",
    "#Creating Classes\n",
    "\n",
    "#This class adds new user, authenticate them, updates new id or username and delete a user information. It also creates session id for the same user\n",
    "class user_update():\n",
    "  def __init__(self, username, password):\n",
    "    self.username = username\n",
    "    self.password = password\n",
    "\n",
    "  def new_user(self):\n",
    "    if self.username in user_db:\n",
    "      print(\"User Already Exist\")\n",
    "    else:\n",
    "      user_db[self.username] = self.password\n",
    "      print(user_db)\n",
    "\n",
    "  def auth_user(self):\n",
    "    if self.username in user_db:\n",
    "      print(\"Authorisation successful\")\n",
    "    else:\n",
    "      print(\"Access Denied. Create Account?\")\n",
    "\n",
    "  def remove_user(self):\n",
    "    if self.username in user_db:\n",
    "      del user_db[self.username]\n",
    "      print(\"User Deleted\")\n",
    "    else:\n",
    "      print(\"User Not Found\")\n",
    "\n",
    "  def change_pass(self):\n",
    "    if self.username in user_db:\n",
    "      print(\"User Found\")\n",
    "      self.password = input(\"Enter New Password: \")\n",
    "      user_db[self.username]=self.password\n",
    "      print(\"Password Updated:\")\n",
    "      print(user_db)\n",
    "    else:\n",
    "      print(\"User Not Found\")\n",
    "\n",
    "  def change_usrnm(self):\n",
    "    if self.username in user_db:\n",
    "      print(\"User Found\")\n",
    "      u_pass = self.password\n",
    "      del user_db[self.username]\n",
    "      self.username = input(\"Enter New Username: \")\n",
    "      user_db[self.username] = u_pass\n",
    "      print(\"Username Updated:\")\n",
    "      print(user_db)\n",
    "    else:\n",
    "      print(\"User Not Found\")\n",
    "\n",
    "# Create Login Page\n",
    "\n",
    "time.sleep(1)\n",
    "while(relation not in range(1,4)):\n",
    "  time.sleep(1)\n",
    "  print(\"Please select your relation with us:\")\n",
    "  print(\"[1] Sign Up\\t[2] Sign In\\t[3] Exit\")\n",
    "  relation = int(input(\"::\"))\n",
    "  time.sleep(1)\n",
    "  os.system('clear')\n",
    "  if relation == 1:\n",
    "    print(\"Please create an account by entering New Id and Password:\")\n",
    "  if relation == 2:\n",
    "    print(\"Please Enter your Id and Password:\")"
   ]
  },
  {
   "cell_type": "code",
   "execution_count": 9,
   "metadata": {},
   "outputs": [
    {
     "data": {
      "text/plain": [
       "True"
      ]
     },
     "execution_count": 9,
     "metadata": {},
     "output_type": "execute_result"
    }
   ],
   "source": [
    "relation = 4\n",
    "relation not in range(1,4)"
   ]
  },
  {
   "cell_type": "code",
   "execution_count": null,
   "metadata": {},
   "outputs": [],
   "source": []
  },
  {
   "cell_type": "code",
   "execution_count": null,
   "metadata": {},
   "outputs": [],
   "source": []
  },
  {
   "cell_type": "code",
   "execution_count": null,
   "metadata": {},
   "outputs": [],
   "source": []
  },
  {
   "cell_type": "raw",
   "metadata": {},
   "source": [
    "import time\n",
    "import os\n",
    "\n",
    "#Display the Welcome Message three times with a blink\n",
    "\n",
    "for i in range(0,3):\n",
    "    os.system('clear')\n",
    "    time.sleep(1)\n",
    "    print(\"***************************************\")\n",
    "    print(\"*** Welcome to the Demo Marketplace ***\")\n",
    "    print(\"***************************************\")\n",
    "    #provide a delay\n",
    "    time.sleep(1)\n",
    "\n",
    "\n",
    "###Creating Databases\n",
    "\n",
    "#Admin Login Database. In the form of \"admin_user_id:admin_password\"\n",
    "admin_db = {\"aak\":\"aak01\", \"Meg\":\"meg01\", \"pre\":\"pre01\"}\n",
    "\n",
    "#Users login database. In the form of \"user_id:user_password\"\n",
    "user_db = {}\n",
    "\n",
    "#Session ID Storage. Empty list right now.\n",
    "sessionID = {}\n",
    "\n",
    "#Relation_ID\n",
    "r_id = 4\n",
    "\n",
    "#Creating Classes\n",
    "\n",
    "#This class adds new user, authenticate them, updates new id or username and delete a user information. It also creates session id for the same user\n",
    "class user_update():\n",
    "  def __init__(self, username, password):\n",
    "    self.username = username\n",
    "    self.password = password\n",
    "\n",
    "  def new_user(self):\n",
    "    if self.username in user_db:\n",
    "      print(\"User Already Exist\")\n",
    "    else:\n",
    "      user_db[self.username] = self.password\n",
    "      print(user_db)\n",
    "\n",
    "  def auth_user(self):\n",
    "    if self.username in user_db:\n",
    "      print(\"Authorisation successful\")\n",
    "    else:\n",
    "      print(\"Access Denied. Create Account?\")\n",
    "\n",
    "  def remove_user(self):\n",
    "    if self.username in user_db:\n",
    "      del user_db[self.username]\n",
    "      print(\"User Deleted\")\n",
    "    else:\n",
    "      print(\"User Not Found\")\n",
    "\n",
    "  def change_pass(self):\n",
    "    if self.username in user_db:\n",
    "      print(\"User Found\")\n",
    "      self.password = input(\"Enter New Password: \")\n",
    "      user_db[self.username]=self.password\n",
    "      print(\"Password Updated:\")\n",
    "      print(user_db)\n",
    "    else:\n",
    "      print(\"User Not Found\")\n",
    "\n",
    "  def change_usrnm(self):\n",
    "    if self.username in user_db:\n",
    "      print(\"User Found\")\n",
    "      u_pass = self.password\n",
    "      del user_db[self.username]\n",
    "      self.username = input(\"Enter New Username: \")\n",
    "      user_db[self.username] = u_pass\n",
    "      print(\"Username Updated:\")\n",
    "      print(user_db)\n",
    "    else:\n",
    "      print(\"User Not Found\")\n",
    "\n",
    "# Create Login Page\n",
    "\n",
    "while(r_id not in range(1,4)):\n",
    "  time.sleep(1)\n",
    "  print(\"Please select your r_id with us:\")\n",
    "  print(\"[1] Sign Up\\t[2] Sign In\\t[3] Exit\")\n",
    "  try:\n",
    "    r_id = int(input(\"::\"))\n",
    "  except:\n",
    "    r_id = 4\n",
    "  time.sleep(1)\n",
    "  os.system('clear')\n",
    "  if r_id is 1:\n",
    "    print(\"Please create an account by entering New Id and Password:\")\n",
    "    break\n",
    "  if r_id is 2:\n",
    "    print(\"Please Enter your Id and Password:\")\n",
    "    break\n",
    "  if r_id is 3:\n",
    "    print(\"Thanks for visiting us, hope to see you again\")\n",
    "    break\n",
    "  print(\"Wrong Choice...\")"
   ]
  },
  {
   "cell_type": "code",
   "execution_count": 16,
   "metadata": {},
   "outputs": [
    {
     "name": "stderr",
     "output_type": "stream",
     "text": [
      "<>:92: SyntaxWarning: \"is\" with a literal. Did you mean \"==\"?\n",
      "<>:95: SyntaxWarning: \"is\" with a literal. Did you mean \"==\"?\n",
      "<>:98: SyntaxWarning: \"is\" with a literal. Did you mean \"==\"?\n",
      "<>:92: SyntaxWarning: \"is\" with a literal. Did you mean \"==\"?\n",
      "<>:95: SyntaxWarning: \"is\" with a literal. Did you mean \"==\"?\n",
      "<>:98: SyntaxWarning: \"is\" with a literal. Did you mean \"==\"?\n"
     ]
    },
    {
     "name": "stdout",
     "output_type": "stream",
     "text": [
      "\u001b[H\u001b[2J***************************************\n",
      "*** Welcome to the Demo Marketplace ***\n",
      "***************************************\n",
      "\u001b[H\u001b[2J***************************************\n",
      "*** Welcome to the Demo Marketplace ***\n",
      "***************************************\n",
      "\u001b[H\u001b[2J***************************************\n",
      "*** Welcome to the Demo Marketplace ***\n",
      "***************************************\n"
     ]
    },
    {
     "name": "stderr",
     "output_type": "stream",
     "text": [
      "/var/folders/mg/1999j9pd19537hny5ssp2zyc0000gn/T/ipykernel_16756/460970134.py:92: SyntaxWarning: \"is\" with a literal. Did you mean \"==\"?\n",
      "  if r_id is 1:\n",
      "/var/folders/mg/1999j9pd19537hny5ssp2zyc0000gn/T/ipykernel_16756/460970134.py:95: SyntaxWarning: \"is\" with a literal. Did you mean \"==\"?\n",
      "  if r_id is 2:\n",
      "/var/folders/mg/1999j9pd19537hny5ssp2zyc0000gn/T/ipykernel_16756/460970134.py:98: SyntaxWarning: \"is\" with a literal. Did you mean \"==\"?\n",
      "  if r_id is 3:\n"
     ]
    },
    {
     "name": "stdout",
     "output_type": "stream",
     "text": [
      "Please select your r_id with us:\n",
      "[1] Sign Up\t[2] Sign In\t[3] Exit\n",
      "::1\n",
      "\u001b[H\u001b[2JPlease create an account by entering New Id and Password:\n"
     ]
    }
   ],
   "source": [
    "import time\n",
    "import os\n",
    "\n",
    "#Display the Welcome Message three times with a blink\n",
    "\n",
    "for i in range(0,3):\n",
    "    os.system('clear')\n",
    "    time.sleep(1)\n",
    "    print(\"***************************************\")\n",
    "    print(\"*** Welcome to the Demo Marketplace ***\")\n",
    "    print(\"***************************************\")\n",
    "    #provide a delay\n",
    "    time.sleep(1)\n",
    "\n",
    "\n",
    "###Creating Databases\n",
    "\n",
    "#Admin Login Database. In the form of \"admin_user_id:admin_password\"\n",
    "admin_db = {\"aak\":\"aak01\", \"Meg\":\"meg01\", \"pre\":\"pre01\"}\n",
    "\n",
    "#Users login database. In the form of \"user_id:user_password\"\n",
    "user_db = {}\n",
    "\n",
    "#Session ID Storage. Empty list right now.\n",
    "sessionID = {}\n",
    "\n",
    "#Relation_ID\n",
    "r_id = 4\n",
    "\n",
    "#Creating Classes\n",
    "\n",
    "#This class adds new user, authenticate them, updates new id or username and delete a user information. It also creates session id for the same user\n",
    "class user_update():\n",
    "  def __init__(self, username, password):\n",
    "    self.username = username\n",
    "    self.password = password\n",
    "\n",
    "  def new_user(self):\n",
    "    if self.username in user_db:\n",
    "      print(\"User Already Exist\")\n",
    "    else:\n",
    "      user_db[self.username] = self.password\n",
    "      print(user_db)\n",
    "\n",
    "  def auth_user(self):\n",
    "    if self.username in user_db:\n",
    "      print(\"Authorisation successful\")\n",
    "    else:\n",
    "      print(\"Access Denied. Create Account?\")\n",
    "\n",
    "  def remove_user(self):\n",
    "    if self.username in user_db:\n",
    "      del user_db[self.username]\n",
    "      print(\"User Deleted\")\n",
    "    else:\n",
    "      print(\"User Not Found\")\n",
    "\n",
    "  def change_pass(self):\n",
    "    if self.username in user_db:\n",
    "      print(\"User Found\")\n",
    "      self.password = input(\"Enter New Password: \")\n",
    "      user_db[self.username]=self.password\n",
    "      print(\"Password Updated:\")\n",
    "      print(user_db)\n",
    "    else:\n",
    "      print(\"User Not Found\")\n",
    "\n",
    "  def change_usrnm(self):\n",
    "    if self.username in user_db:\n",
    "      print(\"User Found\")\n",
    "      u_pass = self.password\n",
    "      del user_db[self.username]\n",
    "      self.username = input(\"Enter New Username: \")\n",
    "      user_db[self.username] = u_pass\n",
    "      print(\"Username Updated:\")\n",
    "      print(user_db)\n",
    "    else:\n",
    "      print(\"User Not Found\")\n",
    "\n",
    "# Create Login Page\n",
    "\n",
    "while(r_id not in range(1,4)):\n",
    "  time.sleep(1)\n",
    "  print(\"Please select your r_id with us:\")\n",
    "  print(\"[1] Sign Up\\t[2] Sign In\\t[3] Exit\")\n",
    "  try:\n",
    "    r_id = int(input(\"::\"))\n",
    "  except:\n",
    "    r_id = 4\n",
    "  time.sleep(1)\n",
    "  os.system('clear')\n",
    "  if r_id is 1:\n",
    "    print(\"Please create an account by entering New Id and Password:\")\n",
    "    break\n",
    "  if r_id is 2:\n",
    "    print(\"Please Enter your Id and Password:\")\n",
    "    break\n",
    "  if r_id is 3:\n",
    "    print(\"Thanks for visiting us, hope to see you again\")\n",
    "    break\n",
    "  print(\"Wrong Choice...\")\n"
   ]
  },
  {
   "cell_type": "code",
   "execution_count": 17,
   "metadata": {},
   "outputs": [
    {
     "name": "stdout",
     "output_type": "stream",
     "text": [
      "Enter Username: aak\n",
      "Enter Password: aak01\n"
     ]
    }
   ],
   "source": [
    "username = input(\"Enter Username: \")\n",
    "password = input(\"Enter Password: \")"
   ]
  },
  {
   "cell_type": "code",
   "execution_count": 18,
   "metadata": {},
   "outputs": [
    {
     "data": {
      "text/plain": [
       "{}"
      ]
     },
     "execution_count": 18,
     "metadata": {},
     "output_type": "execute_result"
    }
   ],
   "source": [
    "user_db"
   ]
  },
  {
   "cell_type": "code",
   "execution_count": 57,
   "metadata": {},
   "outputs": [],
   "source": [
    "import uuid"
   ]
  },
  {
   "cell_type": "code",
   "execution_count": 22,
   "metadata": {},
   "outputs": [
    {
     "name": "stdout",
     "output_type": "stream",
     "text": [
      "c6c5b01a-b1db-4449-82cd-51151024744a\n"
     ]
    }
   ],
   "source": [
    "print(uuid.uuid4())"
   ]
  },
  {
   "cell_type": "code",
   "execution_count": 38,
   "metadata": {},
   "outputs": [],
   "source": [
    "a = str(uuid.uuid4())"
   ]
  },
  {
   "cell_type": "code",
   "execution_count": 39,
   "metadata": {},
   "outputs": [
    {
     "data": {
      "text/plain": [
       "'29d4e808-5452-4816-b453-75dff0631a85'"
      ]
     },
     "execution_count": 39,
     "metadata": {},
     "output_type": "execute_result"
    }
   ],
   "source": [
    "a"
   ]
  },
  {
   "cell_type": "code",
   "execution_count": 36,
   "metadata": {},
   "outputs": [
    {
     "ename": "TypeError",
     "evalue": "'UUID' object is not subscriptable",
     "output_type": "error",
     "traceback": [
      "\u001b[0;31m---------------------------------------------------------------------------\u001b[0m",
      "\u001b[0;31mTypeError\u001b[0m                                 Traceback (most recent call last)",
      "Cell \u001b[0;32mIn[36], line 1\u001b[0m\n\u001b[0;32m----> 1\u001b[0m a[\u001b[38;5;241m4\u001b[39m]\n",
      "\u001b[0;31mTypeError\u001b[0m: 'UUID' object is not subscriptable"
     ]
    }
   ],
   "source": [
    "a[4]"
   ]
  },
  {
   "cell_type": "code",
   "execution_count": 37,
   "metadata": {},
   "outputs": [
    {
     "data": {
      "text/plain": [
       "uuid.UUID"
      ]
     },
     "execution_count": 37,
     "metadata": {},
     "output_type": "execute_result"
    }
   ],
   "source": [
    "type(a)"
   ]
  },
  {
   "cell_type": "code",
   "execution_count": 40,
   "metadata": {},
   "outputs": [
    {
     "data": {
      "text/plain": [
       "'/Users/aakarshan/Desktop/Aakarshan Data/To Be backed Up/Documents HD/SimpliLearn/New Session/Assignements/Chapter 2'"
      ]
     },
     "execution_count": 40,
     "metadata": {},
     "output_type": "execute_result"
    }
   ],
   "source": [
    "pwd"
   ]
  },
  {
   "cell_type": "code",
   "execution_count": 41,
   "metadata": {},
   "outputs": [],
   "source": [
    "import pandas as pd"
   ]
  },
  {
   "cell_type": "code",
   "execution_count": 44,
   "metadata": {},
   "outputs": [],
   "source": [
    "user_db = pd.read_csv(\"user_db.csv\")"
   ]
  },
  {
   "cell_type": "code",
   "execution_count": 45,
   "metadata": {},
   "outputs": [
    {
     "data": {
      "text/html": [
       "<div>\n",
       "<style scoped>\n",
       "    .dataframe tbody tr th:only-of-type {\n",
       "        vertical-align: middle;\n",
       "    }\n",
       "\n",
       "    .dataframe tbody tr th {\n",
       "        vertical-align: top;\n",
       "    }\n",
       "\n",
       "    .dataframe thead th {\n",
       "        text-align: right;\n",
       "    }\n",
       "</style>\n",
       "<table border=\"1\" class=\"dataframe\">\n",
       "  <thead>\n",
       "    <tr style=\"text-align: right;\">\n",
       "      <th></th>\n",
       "      <th>username</th>\n",
       "      <th>password</th>\n",
       "      <th>sessionID</th>\n",
       "    </tr>\n",
       "  </thead>\n",
       "  <tbody>\n",
       "  </tbody>\n",
       "</table>\n",
       "</div>"
      ],
      "text/plain": [
       "Empty DataFrame\n",
       "Columns: [username, password, sessionID]\n",
       "Index: []"
      ]
     },
     "execution_count": 45,
     "metadata": {},
     "output_type": "execute_result"
    }
   ],
   "source": [
    "user_db"
   ]
  },
  {
   "cell_type": "code",
   "execution_count": 46,
   "metadata": {},
   "outputs": [],
   "source": [
    "import csv"
   ]
  },
  {
   "cell_type": "code",
   "execution_count": 47,
   "metadata": {},
   "outputs": [],
   "source": [
    "file = open(\"user_db.csv\")"
   ]
  },
  {
   "cell_type": "code",
   "execution_count": 48,
   "metadata": {},
   "outputs": [
    {
     "data": {
      "text/plain": [
       "_io.TextIOWrapper"
      ]
     },
     "execution_count": 48,
     "metadata": {},
     "output_type": "execute_result"
    }
   ],
   "source": [
    "type(file)"
   ]
  },
  {
   "cell_type": "code",
   "execution_count": 49,
   "metadata": {},
   "outputs": [],
   "source": [
    "csvread = csv.reader(file)"
   ]
  },
  {
   "cell_type": "code",
   "execution_count": 50,
   "metadata": {},
   "outputs": [
    {
     "data": {
      "text/plain": [
       "<_csv.reader at 0x14dea0430>"
      ]
     },
     "execution_count": 50,
     "metadata": {},
     "output_type": "execute_result"
    }
   ],
   "source": [
    "csvread"
   ]
  },
  {
   "cell_type": "code",
   "execution_count": 51,
   "metadata": {},
   "outputs": [
    {
     "name": "stdout",
     "output_type": "stream",
     "text": [
      "['\\ufeffusername', 'password', 'sessionID']\n",
      "[]\n"
     ]
    }
   ],
   "source": [
    "rows = []\n",
    "with open(\"user_db.csv\", 'r') as file:\n",
    "    csvreader = csv.reader(file)\n",
    "    header = next(csvreader)\n",
    "    for row in csvreader:\n",
    "        rows.append(row)\n",
    "print(header)\n",
    "print(rows)"
   ]
  },
  {
   "cell_type": "code",
   "execution_count": 57,
   "metadata": {},
   "outputs": [],
   "source": [
    "head = ['username','password','sessionID']\n",
    "data = [['aak','aak01','asdf']]"
   ]
  },
  {
   "cell_type": "code",
   "execution_count": 53,
   "metadata": {},
   "outputs": [
    {
     "data": {
      "text/html": [
       "<div>\n",
       "<style scoped>\n",
       "    .dataframe tbody tr th:only-of-type {\n",
       "        vertical-align: middle;\n",
       "    }\n",
       "\n",
       "    .dataframe tbody tr th {\n",
       "        vertical-align: top;\n",
       "    }\n",
       "\n",
       "    .dataframe thead th {\n",
       "        text-align: right;\n",
       "    }\n",
       "</style>\n",
       "<table border=\"1\" class=\"dataframe\">\n",
       "  <thead>\n",
       "    <tr style=\"text-align: right;\">\n",
       "      <th></th>\n",
       "      <th>0</th>\n",
       "    </tr>\n",
       "  </thead>\n",
       "  <tbody>\n",
       "    <tr>\n",
       "      <th>username</th>\n",
       "      <td>aak</td>\n",
       "    </tr>\n",
       "    <tr>\n",
       "      <th>password</th>\n",
       "      <td>aak01</td>\n",
       "    </tr>\n",
       "    <tr>\n",
       "      <th>sessionID</th>\n",
       "      <td>asdf</td>\n",
       "    </tr>\n",
       "  </tbody>\n",
       "</table>\n",
       "</div>"
      ],
      "text/plain": [
       "               0\n",
       "username     aak\n",
       "password   aak01\n",
       "sessionID   asdf"
      ]
     },
     "execution_count": 53,
     "metadata": {},
     "output_type": "execute_result"
    }
   ],
   "source": [
    "pd.DataFrame(data,head)"
   ]
  },
  {
   "cell_type": "code",
   "execution_count": 62,
   "metadata": {},
   "outputs": [],
   "source": [
    "user_db = pd.DataFrame(data,columns=head)"
   ]
  },
  {
   "cell_type": "code",
   "execution_count": 63,
   "metadata": {},
   "outputs": [
    {
     "data": {
      "text/html": [
       "<div>\n",
       "<style scoped>\n",
       "    .dataframe tbody tr th:only-of-type {\n",
       "        vertical-align: middle;\n",
       "    }\n",
       "\n",
       "    .dataframe tbody tr th {\n",
       "        vertical-align: top;\n",
       "    }\n",
       "\n",
       "    .dataframe thead th {\n",
       "        text-align: right;\n",
       "    }\n",
       "</style>\n",
       "<table border=\"1\" class=\"dataframe\">\n",
       "  <thead>\n",
       "    <tr style=\"text-align: right;\">\n",
       "      <th></th>\n",
       "      <th>username</th>\n",
       "      <th>password</th>\n",
       "      <th>sessionID</th>\n",
       "    </tr>\n",
       "  </thead>\n",
       "  <tbody>\n",
       "    <tr>\n",
       "      <th>0</th>\n",
       "      <td>aak</td>\n",
       "      <td>aak01</td>\n",
       "      <td>asdf</td>\n",
       "    </tr>\n",
       "  </tbody>\n",
       "</table>\n",
       "</div>"
      ],
      "text/plain": [
       "  username password sessionID\n",
       "0      aak    aak01      asdf"
      ]
     },
     "execution_count": 63,
     "metadata": {},
     "output_type": "execute_result"
    }
   ],
   "source": [
    "user_db"
   ]
  },
  {
   "cell_type": "code",
   "execution_count": 64,
   "metadata": {},
   "outputs": [],
   "source": [
    "user_db.to_csv(\"user_db.csv\",index=False)"
   ]
  },
  {
   "cell_type": "code",
   "execution_count": 67,
   "metadata": {},
   "outputs": [],
   "source": [
    "user_db = pd.read_csv(\"user_db.csv\")"
   ]
  },
  {
   "cell_type": "code",
   "execution_count": 68,
   "metadata": {},
   "outputs": [
    {
     "data": {
      "text/html": [
       "<div>\n",
       "<style scoped>\n",
       "    .dataframe tbody tr th:only-of-type {\n",
       "        vertical-align: middle;\n",
       "    }\n",
       "\n",
       "    .dataframe tbody tr th {\n",
       "        vertical-align: top;\n",
       "    }\n",
       "\n",
       "    .dataframe thead th {\n",
       "        text-align: right;\n",
       "    }\n",
       "</style>\n",
       "<table border=\"1\" class=\"dataframe\">\n",
       "  <thead>\n",
       "    <tr style=\"text-align: right;\">\n",
       "      <th></th>\n",
       "      <th>username</th>\n",
       "      <th>password</th>\n",
       "      <th>sessionID</th>\n",
       "    </tr>\n",
       "  </thead>\n",
       "  <tbody>\n",
       "    <tr>\n",
       "      <th>0</th>\n",
       "      <td>aak</td>\n",
       "      <td>aak01</td>\n",
       "      <td>asdf</td>\n",
       "    </tr>\n",
       "  </tbody>\n",
       "</table>\n",
       "</div>"
      ],
      "text/plain": [
       "  username password sessionID\n",
       "0      aak    aak01      asdf"
      ]
     },
     "execution_count": 68,
     "metadata": {},
     "output_type": "execute_result"
    }
   ],
   "source": [
    "user_db"
   ]
  },
  {
   "cell_type": "code",
   "execution_count": 1,
   "metadata": {},
   "outputs": [
    {
     "name": "stdout",
     "output_type": "stream",
     "text": [
      "Requirement already satisfied: openpyxl in /opt/anaconda3/lib/python3.11/site-packages (3.0.10)\n",
      "Requirement already satisfied: et_xmlfile in /opt/anaconda3/lib/python3.11/site-packages (from openpyxl) (1.1.0)\n",
      "Note: you may need to restart the kernel to use updated packages.\n"
     ]
    }
   ],
   "source": [
    "pip install openpyxl"
   ]
  },
  {
   "cell_type": "code",
   "execution_count": 2,
   "metadata": {},
   "outputs": [
    {
     "data": {
      "text/plain": [
       "'/Users/aakarshan/Documents/Documents HD2/SimpliLearn/New Session/Assignements/Chapter 2'"
      ]
     },
     "execution_count": 2,
     "metadata": {},
     "output_type": "execute_result"
    }
   ],
   "source": [
    "pwd"
   ]
  },
  {
   "cell_type": "code",
   "execution_count": 45,
   "metadata": {},
   "outputs": [],
   "source": [
    "import openpyxl"
   ]
  },
  {
   "cell_type": "code",
   "execution_count": 46,
   "metadata": {},
   "outputs": [],
   "source": [
    "path = \"user_db.xlsx\""
   ]
  },
  {
   "cell_type": "code",
   "execution_count": 47,
   "metadata": {},
   "outputs": [
    {
     "name": "stdout",
     "output_type": "stream",
     "text": [
      "username\n"
     ]
    }
   ],
   "source": [
    "wb = openpyxl.load_workbook(path)\n",
    "\n",
    "sheet = wb.active\n",
    "\n",
    "cell = sheet.cell(row = 1, column = 1)\n",
    "\n",
    "print(cell.value)"
   ]
  },
  {
   "cell_type": "code",
   "execution_count": 48,
   "metadata": {},
   "outputs": [
    {
     "name": "stdout",
     "output_type": "stream",
     "text": [
      "1\n"
     ]
    }
   ],
   "source": [
    "print(sheet.max_row)"
   ]
  },
  {
   "cell_type": "code",
   "execution_count": 49,
   "metadata": {},
   "outputs": [
    {
     "name": "stdout",
     "output_type": "stream",
     "text": [
      "3\n"
     ]
    }
   ],
   "source": [
    "print(sheet.max_column)"
   ]
  },
  {
   "cell_type": "code",
   "execution_count": 50,
   "metadata": {},
   "outputs": [
    {
     "name": "stdout",
     "output_type": "stream",
     "text": [
      "username\n",
      "aak\n",
      "sessionid\n"
     ]
    }
   ],
   "source": [
    "max_col = sheet.max_column\n",
    " \n",
    "# Loop will print all columns name\n",
    "for i in range(1, max_col + 1):\n",
    "    cell = sheet.cell(row = 1, column = i)\n",
    "    print(cell.value)"
   ]
  },
  {
   "cell_type": "code",
   "execution_count": 51,
   "metadata": {},
   "outputs": [
    {
     "name": "stdout",
     "output_type": "stream",
     "text": [
      "username\n"
     ]
    }
   ],
   "source": [
    "max_row = sheet.max_row\n",
    " \n",
    "# Loop will print all values\n",
    "# of first column \n",
    "for i in range(1, max_row + 1):\n",
    "    cell = sheet.cell(row = i, column = 1)\n",
    "    print(cell\n",
    "          .value)"
   ]
  },
  {
   "cell_type": "code",
   "execution_count": 52,
   "metadata": {},
   "outputs": [
    {
     "name": "stdout",
     "output_type": "stream",
     "text": [
      "username aak sessionid "
     ]
    }
   ],
   "source": [
    "max_col = sheet.max_column\n",
    " \n",
    "# Will print a particular row value\n",
    "for i in range(1, max_col + 1):\n",
    "    cell = sheet.cell(row = 1, column = i)\n",
    "    print(cell.value, end = \" \")"
   ]
  },
  {
   "cell_type": "code",
   "execution_count": 53,
   "metadata": {},
   "outputs": [
    {
     "name": "stdout",
     "output_type": "stream",
     "text": [
      "user_db\n"
     ]
    }
   ],
   "source": [
    "sheet_title = sheet.title \n",
    "  \n",
    "print(sheet_title)"
   ]
  },
  {
   "cell_type": "code",
   "execution_count": 54,
   "metadata": {},
   "outputs": [],
   "source": [
    "cell = sheet.cell(row = 1, column = 1)"
   ]
  },
  {
   "cell_type": "code",
   "execution_count": 55,
   "metadata": {},
   "outputs": [
    {
     "name": "stdout",
     "output_type": "stream",
     "text": [
      "username\n"
     ]
    }
   ],
   "source": [
    "print(cell.value)"
   ]
  },
  {
   "cell_type": "code",
   "execution_count": 56,
   "metadata": {},
   "outputs": [],
   "source": [
    "user_db_temp = {}"
   ]
  },
  {
   "cell_type": "code",
   "execution_count": 58,
   "metadata": {},
   "outputs": [],
   "source": [
    "cell2 = sheet.cell(2,1)\n",
    "cell2.value = 'aak'\n",
    "cell2 = sheet.cell(2,2)\n",
    "cell2.value = 'aak01'\n",
    "cell2 = sheet.cell(2,3)\n",
    "cell2.value = str(uuid.uuid4())"
   ]
  },
  {
   "cell_type": "code",
   "execution_count": 59,
   "metadata": {},
   "outputs": [
    {
     "name": "stdout",
     "output_type": "stream",
     "text": [
      "902c05ec-88aa-447f-8300-6bba441dabaf\n"
     ]
    }
   ],
   "source": [
    "print(cell2.value)"
   ]
  },
  {
   "cell_type": "code",
   "execution_count": 60,
   "metadata": {},
   "outputs": [],
   "source": [
    "wb.save(\"user_db.xlsx\")"
   ]
  },
  {
   "cell_type": "code",
   "execution_count": 61,
   "metadata": {},
   "outputs": [],
   "source": [
    "wb.close()"
   ]
  },
  {
   "cell_type": "code",
   "execution_count": 62,
   "metadata": {},
   "outputs": [],
   "source": [
    "cell2 = sheet.cell(3,1)\n",
    "cell2.value = 'megh'\n",
    "cell2 = sheet.cell(3,2)\n",
    "cell2.value = 'megh01'\n",
    "cell2 = sheet.cell(3,3)\n",
    "cell2.value = str(uuid.uuid4())"
   ]
  },
  {
   "cell_type": "code",
   "execution_count": 63,
   "metadata": {},
   "outputs": [],
   "source": [
    "wb.save(path)"
   ]
  },
  {
   "cell_type": "code",
   "execution_count": 66,
   "metadata": {},
   "outputs": [],
   "source": [
    "mx_col = sheet.max_column"
   ]
  },
  {
   "cell_type": "code",
   "execution_count": 67,
   "metadata": {},
   "outputs": [],
   "source": [
    "mx_col = sheet.max_column"
   ]
  },
  {
   "cell_type": "code",
   "execution_count": 68,
   "metadata": {},
   "outputs": [
    {
     "data": {
      "text/plain": [
       "3"
      ]
     },
     "execution_count": 68,
     "metadata": {},
     "output_type": "execute_result"
    }
   ],
   "source": [
    "mx_col"
   ]
  },
  {
   "cell_type": "code",
   "execution_count": 69,
   "metadata": {},
   "outputs": [],
   "source": [
    "mx_row = sheet.max_row"
   ]
  },
  {
   "cell_type": "code",
   "execution_count": 70,
   "metadata": {},
   "outputs": [
    {
     "data": {
      "text/plain": [
       "3"
      ]
     },
     "execution_count": 70,
     "metadata": {},
     "output_type": "execute_result"
    }
   ],
   "source": [
    "mx_row"
   ]
  },
  {
   "cell_type": "code",
   "execution_count": 83,
   "metadata": {},
   "outputs": [],
   "source": [
    "user_db = {}"
   ]
  },
  {
   "cell_type": "code",
   "execution_count": 84,
   "metadata": {},
   "outputs": [],
   "source": [
    "for i in range(2, mx_row+1):\n",
    "    user_db[str(sheet.cell(i,1).value)] = [str(sheet.cell(i,2).value),str(sheet.cell(i,3).value)]"
   ]
  },
  {
   "cell_type": "code",
   "execution_count": 85,
   "metadata": {},
   "outputs": [
    {
     "name": "stdout",
     "output_type": "stream",
     "text": [
      "{'aak': ['aak01', '902c05ec-88aa-447f-8300-6bba441dabaf'], 'megh': ['megh01', 'c6946e18-4599-4408-bdff-f2e7bcf8c10f']}\n"
     ]
    }
   ],
   "source": [
    "print(user_db)"
   ]
  },
  {
   "cell_type": "code",
   "execution_count": 86,
   "metadata": {},
   "outputs": [
    {
     "data": {
      "text/plain": [
       "{'aak': ['aak01', '902c05ec-88aa-447f-8300-6bba441dabaf'],\n",
       " 'megh': ['megh01', 'c6946e18-4599-4408-bdff-f2e7bcf8c10f']}"
      ]
     },
     "execution_count": 86,
     "metadata": {},
     "output_type": "execute_result"
    }
   ],
   "source": [
    "user_db"
   ]
  },
  {
   "cell_type": "code",
   "execution_count": 87,
   "metadata": {},
   "outputs": [
    {
     "ename": "AttributeError",
     "evalue": "'dict' object has no attribute 'len'",
     "output_type": "error",
     "traceback": [
      "\u001b[0;31m---------------------------------------------------------------------------\u001b[0m",
      "\u001b[0;31mAttributeError\u001b[0m                            Traceback (most recent call last)",
      "Cell \u001b[0;32mIn[87], line 1\u001b[0m\n\u001b[0;32m----> 1\u001b[0m user_db\u001b[38;5;241m.\u001b[39mlen()\n",
      "\u001b[0;31mAttributeError\u001b[0m: 'dict' object has no attribute 'len'"
     ]
    }
   ],
   "source": [
    "user_db.len()"
   ]
  },
  {
   "cell_type": "code",
   "execution_count": 88,
   "metadata": {},
   "outputs": [
    {
     "data": {
      "text/plain": [
       "2"
      ]
     },
     "execution_count": 88,
     "metadata": {},
     "output_type": "execute_result"
    }
   ],
   "source": [
    "len(user_db)"
   ]
  },
  {
   "cell_type": "code",
   "execution_count": 95,
   "metadata": {},
   "outputs": [
    {
     "data": {
      "text/plain": [
       "'megh'"
      ]
     },
     "execution_count": 95,
     "metadata": {},
     "output_type": "execute_result"
    }
   ],
   "source": [
    "list(user_db.keys())[len(user_db)-1]"
   ]
  },
  {
   "cell_type": "code",
   "execution_count": 96,
   "metadata": {},
   "outputs": [],
   "source": [
    "l = [1,2,3]\n"
   ]
  },
  {
   "cell_type": "code",
   "execution_count": 97,
   "metadata": {},
   "outputs": [
    {
     "data": {
      "text/plain": [
       "True"
      ]
     },
     "execution_count": 97,
     "metadata": {},
     "output_type": "execute_result"
    }
   ],
   "source": [
    "1 in l"
   ]
  },
  {
   "cell_type": "code",
   "execution_count": null,
   "metadata": {},
   "outputs": [],
   "source": []
  }
 ],
 "metadata": {
  "kernelspec": {
   "display_name": "Python 3 (ipykernel)",
   "language": "python",
   "name": "python3"
  },
  "language_info": {
   "codemirror_mode": {
    "name": "ipython",
    "version": 3
   },
   "file_extension": ".py",
   "mimetype": "text/x-python",
   "name": "python",
   "nbconvert_exporter": "python",
   "pygments_lexer": "ipython3",
   "version": "3.11.7"
  }
 },
 "nbformat": 4,
 "nbformat_minor": 2
}
